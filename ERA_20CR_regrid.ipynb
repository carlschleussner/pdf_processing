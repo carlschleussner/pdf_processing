{
 "cells": [
  {
   "cell_type": "code",
   "execution_count": 108,
   "metadata": {
    "collapsed": false
   },
   "outputs": [],
   "source": [
    "\n",
    "#%matplotlib inline \n",
    "\n",
    "###########\n",
    "#PDF PROCESSING FOR various INPUT \n",
    "# DEPENDING ON THE PDF_PROCESSING CLASS\n",
    "#by Carl Schleussner, Climate Analytics\n",
    "#carl.schleussner@climateanalytics.org\n",
    "###########\n",
    "# IMPORT AND CONFIG \n",
    "import numpy as np\n",
    "import netCDF4 as net\n",
    "import dimarray as da \n",
    "import sys\n",
    "sys.path.append(\"./src/\")\n",
    "import itertools\n",
    "import glob\n",
    "import datetime\n",
    "import pickle\n",
    "import os\n",
    "import pandas as pd\n",
    "import matplotlib.pylab as plt \n",
    "from netCDF4 import Dataset,netcdftime,num2date\n",
    "\n",
    "plt.style.use('ggplot')\n",
    "plt.rcParams['figure.figsize'] = 8,6\n",
    "\n",
    "from matplotlib import rc\n",
    "rc('text', usetex=True)\n",
    "\n",
    "os.chdir('/Users/peterpfleiderer/Documents/Projects/0p5_observed/pdf_processing/')\n",
    "try:\n",
    "    import pdf_processing as pdf; reload(pdf)\n",
    "except ImportError:\n",
    "    raise ImportError(\n",
    "        \"cannot find PDF_Processing code\")\n",
    "\n",
    "###########\n",
    "# Settings\n",
    "###########\n",
    "\n",
    "# PDF Method (currently defined: hist, python_silverman)\n",
    "pdf_method='python_silverman'\n",
    "\n",
    "# Set range for years for bootstrap sampling \n",
    "bs_range=[1958,2010]\n",
    "\n",
    "# Variablelist\n",
    "varinlist=[\n",
    "    'TXx',\n",
    "    'TNn',\n",
    "    'WSDI',\n",
    "    'RX5',\n",
    "    'RX1'\n",
    "          ] \n",
    "\n",
    "ref_period=[1960,1979]\n",
    "target_periods=[[1991,2010],ref_period]\n",
    "period_names=['Recent','ref']\n",
    "\n",
    "timeaxis=np.arange(1958,2011)\n",
    "\n",
    "# Input datasets\n",
    "datasets=['ERA_regrid','20CR_regrid']\n",
    "\n",
    "\n",
    "\n",
    "varoutdict={\n",
    "    datasets[0]:{},    \n",
    "    datasets[1]:{}   \n",
    "}\n"
   ]
  },
  {
   "cell_type": "code",
   "execution_count": 111,
   "metadata": {
    "collapsed": false
   },
   "outputs": [
    {
     "name": "stdout",
     "output_type": "stream",
     "text": [
      "txx\n",
      "tnn\n"
     ]
    }
   ],
   "source": [
    "##############################\n",
    "# 20CR_regrid\n",
    "###############\n",
    "dataset='20CR_regrid'\n",
    "for varin in ['TXx','TNn']:  \n",
    "    print varin.lower()\n",
    "   \n",
    "    in_file=glob.glob('/Users/peterpfleiderer/Box Sync/0p5_observational_record/data/data_climdex/*/'+varin.lower()+'*regrid*')[0]\n",
    "    nc_in=Dataset(in_file,\"r\")    \n",
    "    # handle time information\n",
    "    try:\n",
    "        time=nc_in.variables['time'][:]\n",
    "        datevar = []\n",
    "        # if no specification\n",
    "        time_unit=nc_in.variables['time'].units\n",
    "        try:\t\n",
    "            cal_temps = nc_in.variables['time'].calendar\n",
    "            datevar.append(num2date(time,units = time_unit,calendar = cal_temps))\n",
    "        except:\n",
    "            datevar.append(num2date(time,units = time_unit))\n",
    "        year=np.array([int(str(date).split(\"-\")[0])\tfor date in datevar[0][:]])\n",
    "    except: pass\n",
    "\n",
    "    lat=nc_in.variables['lat'][:]\n",
    "    lon=nc_in.variables['lon'][:]\n",
    "\n",
    "    # Set regular integer time axis, dimarray default always adds month and day. Time range 1951-2015\n",
    "    relevant_years=np.where((year>=1958) & (year<2010))[0]\n",
    "    var_in=nc_in.variables['air'][:,:,:]\n",
    "    if var_in.mean()>150:var_in-=273.15\n",
    "    \n",
    "    input_data=da.DimArray(var_in[relevant_years,:,:].squeeze(), axes=[year[relevant_years], lat, lon],dims=['year', 'lat', 'lon'] )\n",
    "    \n",
    "    # Mask for data availability (individual for each dataset)\n",
    "    varoutdict[dataset][varin]=pdf.PDF_Processing(varin)\n",
    "    varoutdict[dataset][varin].mask_for_ref_period_data_coverage(input_data,ref_period,check_ref_period_only=False,target_periods=target_periods)\n"
   ]
  },
  {
   "cell_type": "code",
   "execution_count": 113,
   "metadata": {
    "collapsed": false
   },
   "outputs": [
    {
     "name": "stdout",
     "output_type": "stream",
     "text": [
      "txx\n",
      "tnn\n"
     ]
    }
   ],
   "source": [
    "##############\n",
    "# ERA40 - ERAinterim _regrid\n",
    "############## \n",
    "dataset='ERA_regrid'\n",
    "for varin in ['TXx','TNn']:  \n",
    "    print varin.lower()\n",
    "   \n",
    "    # ERA40\n",
    "    in_file=glob.glob('/Users/peterpfleiderer/Box Sync/0p5_observational_record/data/data_climdex/ERA40/'+varin.lower()+'*regrid*')[0]\n",
    "    nc_in=Dataset(in_file,\"r\")\n",
    "    \n",
    "    # handle time information\n",
    "    time=nc_in.variables['time'][:]\n",
    "    datevar = []\n",
    "    # if no specification\n",
    "    time_unit=nc_in.variables['time'].units\n",
    "    try:\n",
    "        cal_temps = nc_in.variables['time'].calendar\n",
    "        datevar.append(num2date(time,units = time_unit,calendar = cal_temps))\n",
    "    except:\n",
    "        datevar.append(num2date(time,units = time_unit))\n",
    "    year=np.array([int(str(date).split(\"-\")[0])\tfor date in datevar[0][:]])\n",
    "    \n",
    "    lat=nc_in.variables['lat'][:]\n",
    "    lon=nc_in.variables['lon'][:]\n",
    "    # Set regular integer time axis, dimarray default always adds month and day. Time range 1951-2015\n",
    "    relevant_years=np.where((year>=1958) & (year<1979))[0]\n",
    "    ERA40=nc_in.variables['t2m'][:,:,:]\n",
    "    if ERA40.mean()>150:ERA40-=273.15\n",
    "        \n",
    "    ERA40=da.DimArray(ERA40[relevant_years,:,:].squeeze(), axes=[year[relevant_years], lat, lon],dims=['year', 'lat', 'lon'] )\n",
    "\n",
    "\n",
    "    # ERAinterim\n",
    "    in_file=glob.glob('/Users/peterpfleiderer/Box Sync/0p5_observational_record/data/data_climdex/ERAinterim/'+varin.lower()+'*regrid*')[0]\n",
    "    nc_in=Dataset(in_file,\"r\")\n",
    "    # handle time information\n",
    "    time=nc_in.variables['time'][:]\n",
    "    datevar = []\n",
    "    # if no specification\n",
    "    time_unit=nc_in.variables['time'].units\n",
    "    try:\n",
    "        cal_temps = nc_in.variables['time'].calendar\n",
    "        datevar.append(num2date(time,units = time_unit,calendar = cal_temps))\n",
    "    except:\n",
    "        datevar.append(num2date(time,units = time_unit))\n",
    "    year=np.array([int(str(date).split(\"-\")[0])\tfor date in datevar[0][:]])\n",
    "\n",
    "    lat=nc_in.variables['lat'][:]\n",
    "    lon=nc_in.variables['lon'][:]\n",
    "    # Set regular integer time axis, dimarray default always adds month and day. Time range 1951-2015\n",
    "    relevant_years=np.where((year>=1979) & (year<2010))[0]\n",
    "    ERAinterim=nc_in.variables['t2m'][:,:,:]\n",
    "    if ERAinterim.mean()>150:ERAinterim-=273.15\n",
    "\n",
    "    ERAinterim=da.DimArray(ERAinterim[relevant_years,:,:].squeeze(), axes=[year[relevant_years], lat, lon],dims=['year', 'lat', 'lon'] )\n",
    "\n",
    "    input_data=da.concatenate((ERA40, ERAinterim), axis='year')\n",
    "        \n",
    "    # Mask for data availability (individual for each dataset)\n",
    "    varoutdict[dataset][varin]=pdf.PDF_Processing(varin)\n",
    "    varoutdict[dataset][varin].mask_for_ref_period_data_coverage(input_data,ref_period,check_ref_period_only=False,target_periods=target_periods)\n"
   ]
  },
  {
   "cell_type": "code",
   "execution_count": 13,
   "metadata": {
    "collapsed": false
   },
   "outputs": [
    {
     "name": "stdout",
     "output_type": "stream",
     "text": [
      "ERA_regrid\n",
      "Recent [1991, 2010]\n",
      "ref [1960, 1979]\n",
      "Warning, NaNs in difference kernel estimation. No of NaNs: 0\n",
      "Warning, total number of NaNs in bootstrap kernel estimation. No of NaNs: 0\n",
      "20CR_regrid\n",
      "Recent [1991, 2010]\n",
      "ref [1960, 1979]\n",
      "Warning, NaNs in difference kernel estimation. No of NaNs: 0\n",
      "Warning, total number of NaNs in bootstrap kernel estimation. No of NaNs: 0\n"
     ]
    }
   ],
   "source": [
    "################\n",
    "# with HadEx2 mask for ERA and 20CR\n",
    "################\n",
    "cut_interval_dict={\n",
    "    'TXx':[-2,3],\n",
    "    'TNn':[-3,5],\n",
    "    'WSDI':[-10,20],\n",
    "    'RX5':[-30,45],\n",
    "    'RX1':[-30,40]\n",
    "          }\n",
    "\n",
    "for varin in ['TXx']:\n",
    "    for dataset in ['ERA_regrid','20CR_regrid']:\n",
    "        print dataset\n",
    "        \n",
    "        # use HadEx2 mask\n",
    "        varoutdict[dataset][varin]._masks['global']=varoutdict['HadEX2'][varin]._masks['global']\n",
    "        \n",
    "        # Derive time slices\n",
    "        varoutdict[dataset][varin].derive_time_slices(ref_period,target_periods,period_names)\n",
    "        varoutdict[dataset][varin].derive_distributions()\n",
    "\n",
    "        varoutdict[dataset][varin].derive_pdf_difference('ref','Recent',pdf_method=pdf_method,bin_range=cut_interval_dict[varin])\n",
    "\n",
    "        # Get bootstrapping confidence intervals\n",
    "        varoutdict[dataset][varin].bootstrapping(bs_range,100)   \n",
    "        varoutdict[dataset][varin].derive_bootstrapped_conf_interval(pdf_method=pdf_method)"
   ]
  },
  {
   "cell_type": "code",
   "execution_count": 15,
   "metadata": {
    "collapsed": true
   },
   "outputs": [],
   "source": [
    "with open('../varoutdict_10000_reanalysis_regrid.pkl', 'wb') as output:\n",
    "    pickle.dump(varoutdict, output, pickle.HIGHEST_PROTOCOL)"
   ]
  },
  {
   "cell_type": "code",
   "execution_count": null,
   "metadata": {
    "collapsed": true
   },
   "outputs": [],
   "source": []
  }
 ],
 "metadata": {
  "anaconda-cloud": {},
  "kernelspec": {
   "display_name": "Python [conda env:py_masks]",
   "language": "python",
   "name": "conda-env-py_masks-py"
  },
  "language_info": {
   "codemirror_mode": {
    "name": "ipython",
    "version": 2
   },
   "file_extension": ".py",
   "mimetype": "text/x-python",
   "name": "python",
   "nbconvert_exporter": "python",
   "pygments_lexer": "ipython2",
   "version": "2.7.12"
  }
 },
 "nbformat": 4,
 "nbformat_minor": 1
}
