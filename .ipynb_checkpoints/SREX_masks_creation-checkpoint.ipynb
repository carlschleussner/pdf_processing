{
 "cells": [
  {
   "cell_type": "code",
   "execution_count": 64,
   "metadata": {
    "collapsed": false
   },
   "outputs": [
    {
     "name": "stdout",
     "output_type": "stream",
     "text": [
      "support/360x720_CMIP5_pr_masks.nc4\n",
      "No of non-NAN grid cells in Mask over Ref period:  67420\n",
      "No of non-NAN grid cells in Mask over Ref period and target period  [1991, 2010]  :  67420\n",
      "No of non-NAN grid cells in Mask over Ref period and target period  [1960, 1979]  :  67420\n",
      "no landmask used\n"
     ]
    }
   ],
   "source": [
    "\n",
    "#%matplotlib inline \n",
    "\n",
    "###########\n",
    "#PDF PROCESSING FOR various INPUT \n",
    "# DEPENDING ON THE PDF_PROCESSING CLASS\n",
    "#by Carl Schleussner, Climate Analytics\n",
    "#carl.schleussner@climateanalytics.org\n",
    "###########\n",
    "\n",
    "# IMPORT AND CONFIG \n",
    "import numpy as np\n",
    "import netCDF4 as net\n",
    "import dimarray as da \n",
    "import sys,glob,datetime,pickle,os,itertools\n",
    "import pandas as pd\n",
    "import matplotlib.pylab as plt \n",
    "from netCDF4 import Dataset,netcdftime,num2date\n",
    "from mpl_toolkits.basemap import Basemap\n",
    "from shapely.geometry import Polygon, MultiPolygon\n",
    "\n",
    "\n",
    "#plt.style.use('ggplot')\n",
    "#plt.rcParams['figure.figsize'] = 8,6\n",
    "from matplotlib import rc\n",
    "rc('text', usetex=True)\n",
    "\n",
    "os.chdir('/Users/peterpfleiderer/Documents/Projects/pdf_processing/')\n",
    "try:\n",
    "    import pdf_processing as pdf; reload(pdf)\n",
    "except ImportError:\n",
    "    raise ImportError(\n",
    "        \"cannot find PDF_Processing code\")\n",
    "\n",
    "timeaxis=np.arange(1958,2011)\n",
    "ref_period=[1960,1979]\n",
    "target_periods=[[1991,2010],ref_period]\n",
    "period_names=['Recent','ref']\n",
    "\n",
    "#read_in_data=da.read_nc('/Users/peterpfleiderer/Documents/data/zwischen/mon_pr_gfdl-esm2m_rcp2.6_1950-2099.nc4')['pr']\n",
    "input_data=da.DimArray(read_in_data.ix[0:53,:,:], axes=[timeaxis, read_in_data.lat, read_in_data.lon],dims=['year', 'lat', 'lon'] )\n",
    "\n",
    "test=pdf.PDF_Processing('pr')\n",
    "test.mask_for_ref_period_data_coverage(input_data,\n",
    "                                       ref_period,\n",
    "                                       target_periods=target_periods,\n",
    "                                       check_ref_period_only=False,\n",
    "                                       dataset='CMIP5',\n",
    "                                      overwrite=True)\n",
    "\n"
   ]
  },
  {
   "cell_type": "code",
   "execution_count": 65,
   "metadata": {
    "collapsed": false
   },
   "outputs": [],
   "source": [
    "pkl_file = open('support/srex_dict.pkl', 'rb')\n",
    "srex = pickle.load(pkl_file)\n",
    "pkl_file.close()\n",
    "\n",
    "region_polygons={}\n",
    "for region in srex.keys()[1:2]:\n",
    "    region_polygons[region]=Polygon(srex[region]['points'])\n"
   ]
  },
  {
   "cell_type": "code",
   "execution_count": 66,
   "metadata": {
    "collapsed": false
   },
   "outputs": [
    {
     "name": "stdout",
     "output_type": "stream",
     "text": [
      "support/360x720_test_pr_SREX_masks.nc4\n",
      "CAS\n"
     ]
    }
   ],
   "source": [
    "test.derive_regional_masking(region_polygons=region_polygons,\n",
    "                             region_type='SREX',\n",
    "                             dataset='CMIP5',\n",
    "                             overwrite=True)"
   ]
  },
  {
   "cell_type": "code",
   "execution_count": 45,
   "metadata": {
    "collapsed": false
   },
   "outputs": [
    {
     "name": "stdout",
     "output_type": "stream",
     "text": [
      "(3, 360, 720)\n"
     ]
    }
   ],
   "source": [
    "print np.asarray(test._masks).shape\n",
    "\n"
   ]
  },
  {
   "cell_type": "code",
   "execution_count": null,
   "metadata": {
    "collapsed": true
   },
   "outputs": [],
   "source": []
  }
 ],
 "metadata": {
  "anaconda-cloud": {},
  "kernelspec": {
   "display_name": "Python [conda env:py_masks]",
   "language": "python",
   "name": "conda-env-py_masks-py"
  },
  "language_info": {
   "codemirror_mode": {
    "name": "ipython",
    "version": 2
   },
   "file_extension": ".py",
   "mimetype": "text/x-python",
   "name": "python",
   "nbconvert_exporter": "python",
   "pygments_lexer": "ipython2",
   "version": "2.7.12"
  }
 },
 "nbformat": 4,
 "nbformat_minor": 2
}
