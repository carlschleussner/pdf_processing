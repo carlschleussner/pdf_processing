{
 "cells": [
  {
   "cell_type": "code",
   "execution_count": 1,
   "metadata": {
    "collapsed": false
   },
   "outputs": [
    {
     "name": "stdout",
     "output_type": "stream",
     "text": [
      "support/73x96_HadEX2_TXx_masks.nc\n",
      "No of non-NAN grid cells in Reference Mask:  1095\n",
      "no landmask used\n"
     ]
    }
   ],
   "source": [
    "\n",
    "#%matplotlib inline \n",
    "\n",
    "###########\n",
    "#PDF PROCESSING FOR various INPUT \n",
    "# DEPENDING ON THE PDF_PROCESSING CLASS\n",
    "#by Carl Schleussner, Climate Analytics\n",
    "#carl.schleussner@climateanalytics.org\n",
    "###########\n",
    "\n",
    "# IMPORT AND CONFIG \n",
    "import numpy as np\n",
    "import netCDF4 as net\n",
    "import dimarray as da \n",
    "import sys,glob,datetime,pickle,os,itertools\n",
    "import pandas as pd\n",
    "import matplotlib.pylab as plt \n",
    "from netCDF4 import Dataset,netcdftime,num2date\n",
    "from mpl_toolkits.basemap import Basemap\n",
    "from shapely.geometry import Polygon, MultiPolygon\n",
    "\n",
    "\n",
    "#plt.style.use('ggplot')\n",
    "#plt.rcParams['figure.figsize'] = 8,6\n",
    "from matplotlib import rc\n",
    "rc('text', usetex=True)\n",
    "\n",
    "os.chdir('/Users/peterpfleiderer/Documents/Projects/pdf_processing/')\n",
    "try:\n",
    "    import pdf_processing as pdf; reload(pdf)\n",
    "except ImportError:\n",
    "    raise ImportError(\n",
    "        \"cannot find PDF_Processing code\")\n",
    "\n",
    "timeaxis=np.arange(1958,2011)\n",
    "ref_period=[1960,1979]\n",
    "target_periods=[[1991,2010],ref_period]\n",
    "period_names=['Recent','ref']\n",
    "\n",
    "read_in_data=da.read_nc('/Users/peterpfleiderer/Box Sync/0p5_observational_record/data/data_climdex/HadEx2/H2_TXx_1901-2010_RegularGrid_global_3.75x2.5deg_LSmask.nc')['Ann']\n",
    "input_data=da.DimArray(read_in_data[19580101:20100101,:,:], axes=[timeaxis, read_in_data.lat, read_in_data.lon],dims=['year', 'lat', 'lon'] )\n",
    "\n",
    "test=pdf.PDF_Processing('TXx')\n",
    "test.mask_for_ref_period_data_coverage(input_data,ref_period,target_periods=target_periods,dataset='HadEX2')\n",
    "\n"
   ]
  },
  {
   "cell_type": "code",
   "execution_count": 2,
   "metadata": {
    "collapsed": false
   },
   "outputs": [],
   "source": [
    "pkl_file = open('support/srex_dict.pkl', 'rb')\n",
    "srex = pickle.load(pkl_file)\n",
    "pkl_file.close()\n",
    "\n",
    "region_polygons={}\n",
    "for region in srex.keys():\n",
    "    region_polygons[region]=Polygon(srex[region]['points'])\n"
   ]
  },
  {
   "cell_type": "code",
   "execution_count": null,
   "metadata": {
    "collapsed": false
   },
   "outputs": [
    {
     "name": "stdout",
     "output_type": "stream",
     "text": [
      "support/73x96_HadEX2_TXx_SREX_masks.nc\n",
      "WSA\n",
      "CAS\n",
      "NEB\n",
      "NAS\n",
      "CAM\n",
      "NAU\n",
      "NEU\n",
      "TIB\n",
      "CGI\n",
      "SAH\n",
      "SAF\n",
      "EAF\n",
      "CEU\n",
      "AMZ\n",
      "SEA\n",
      "SAS\n",
      "EAS\n",
      "SAU\n",
      "ENA\n",
      "WAF\n",
      "WNA\n",
      "CNA\n",
      "WAS\n",
      "MED\n",
      "ALA\n"
     ]
    }
   ],
   "source": [
    "test.derive_regional_masking(shift_lon=-180.0,\n",
    "                             region_polygons=region_polygons,\n",
    "                             region_type='SREX',\n",
    "                             dataset='HadEX2',\n",
    "                             overwrite=True)"
   ]
  },
  {
   "cell_type": "code",
   "execution_count": null,
   "metadata": {
    "collapsed": true
   },
   "outputs": [],
   "source": []
  }
 ],
 "metadata": {
  "anaconda-cloud": {},
  "kernelspec": {
   "display_name": "Python [conda env:py_masks]",
   "language": "python",
   "name": "conda-env-py_masks-py"
  },
  "language_info": {
   "codemirror_mode": {
    "name": "ipython",
    "version": 2
   },
   "file_extension": ".py",
   "mimetype": "text/x-python",
   "name": "python",
   "nbconvert_exporter": "python",
   "pygments_lexer": "ipython2",
   "version": "2.7.12"
  }
 },
 "nbformat": 4,
 "nbformat_minor": 2
}
