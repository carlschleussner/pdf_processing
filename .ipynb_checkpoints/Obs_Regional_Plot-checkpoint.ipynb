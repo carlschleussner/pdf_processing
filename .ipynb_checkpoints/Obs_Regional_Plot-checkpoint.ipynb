{
 "cells": [
  {
   "cell_type": "code",
   "execution_count": 1,
   "metadata": {
    "collapsed": true
   },
   "outputs": [],
   "source": [
    "\n",
    "#%matplotlib inline \n",
    "\n",
    "###########\n",
    "#PDF PROCESSING FOR various INPUT \n",
    "# DEPENDING ON THE PDF_PROCESSING CLASS\n",
    "#by Carl Schleussner, Climate Analytics\n",
    "#carl.schleussner@climateanalytics.org\n",
    "###########\n",
    "\n",
    "# IMPORT AND CONFIG \n",
    "import numpy as np\n",
    "import netCDF4 as net\n",
    "import dimarray as da \n",
    "import sys,glob,datetime,pickle,os,itertools\n",
    "import pandas as pd\n",
    "import matplotlib.pylab as plt \n",
    "from netCDF4 import Dataset,netcdftime,num2date\n",
    "from mpl_toolkits.basemap import Basemap\n",
    "from shapely.geometry import Polygon, MultiPolygon\n",
    "\n",
    "\n",
    "#plt.style.use('ggplot')\n",
    "#plt.rcParams['figure.figsize'] = 8,6\n",
    "from matplotlib import rc\n",
    "rc('text', usetex=True)\n",
    "\n",
    "os.chdir('/Users/peterpfleiderer/Documents/Projects/0p5_observed/pdf_processing/')\n",
    "try:\n",
    "    import pdf_processing as pdf; reload(pdf)\n",
    "except ImportError:\n",
    "    raise ImportError(\n",
    "        \"cannot find PDF_Processing code\")\n",
    "\n",
    "###########\n",
    "# Settings\n",
    "###########\n",
    "\n",
    "# PDF Method (currently defined: hist, python_silverman)\n",
    "pdf_method='python_silverman'\n",
    "\n",
    "# variables\n",
    "varin_dict={\n",
    "    'TXx':{'var_name':'TXX','longname':'Hot extremes (TXx)','unit':'TXx [$^\\circ$ C]'}}\n",
    "\n",
    "# time informations and periods\n",
    "timeaxis=np.arange(1958,2011)\n",
    "ref_period=[1960,1979]\n",
    "target_periods=[[1991,2010],ref_period]\n",
    "period_names=['Recent','ref']\n",
    "\n",
    "# Set range for years for bootstrap sampling \n",
    "bs_range=[1958,2010]\n",
    "\n",
    "# Input datasets\n",
    "datasets=['HadEX2','GHCNDEX']\n",
    "\n",
    "\n",
    "# Set plottint colours\n",
    "colordict={\n",
    "    datasets[0]:\"#247a9c\",\n",
    "    datasets[1]:\"#df1a20\",\n",
    "}"
   ]
  },
  {
   "cell_type": "code",
   "execution_count": 5,
   "metadata": {
    "collapsed": true
   },
   "outputs": [],
   "source": [
    "with open('../varoutdict_10000_obs_0p8_regional.pkl', 'rb') as input:\n",
    "    varoutdict = pickle.load(input)"
   ]
  },
  {
   "cell_type": "code",
   "execution_count": 11,
   "metadata": {
    "collapsed": false
   },
   "outputs": [],
   "source": [
    "###########\n",
    "# Plot Main\n",
    "###########\n",
    "f,pl=plt.subplots(nrows=2,ncols=3,figsize=(10,6))\n",
    "pplot=pl.flatten()\n",
    "\n",
    "varin='TXx'\n",
    "distro='pdf'\n",
    "\n",
    "\n",
    "\n",
    "for region,k in zip(varoutdict['HadEX2']['TXx']._masks.keys(),range(len(pplot))):      \n",
    "    for dataset in ['HadEX2','GHCNDEX']:\n",
    "        pl5=varoutdict[dataset][varin]._distributions[region][distro]['bs_quantiles'][5]\n",
    "        pl95=varoutdict[dataset][varin]._distributions[region][distro]['bs_quantiles'][95]\n",
    "        pplot[k].fill_between(varoutdict[dataset][varin]._distributions[region][distro]['xaxis'],\n",
    "                            pl95,pl5,color=colordict[dataset],\n",
    "                                  alpha=0.25)\n",
    "        \n",
    "        pplot[k].plot(varoutdict[dataset][varin]._distributions[region][distro]['xaxis'],\n",
    "                      varoutdict[dataset][varin]._distributions[region][distro]['Recent_ref'],\n",
    "                      label=dataset,\n",
    "                      color=colordict[dataset],\n",
    "                      linewidth=2)\n",
    "            \n",
    "        pplot[k].set_title(region.replace('_',''))\n",
    "        pplot[k].set_xlabel(varin_dict[varin]['unit'])\n",
    "\n",
    "\n",
    "            \n",
    "#pplot[5].axis('off')\n",
    "#for dataset in ['HadEX2','GHCNDEX']:pplot[5].plot(1,1,label=dataset,color=colordict[dataset])\n",
    "#pplot[5].legend(loc='upper right')\n",
    "\n",
    "plt.tight_layout()\n",
    "plt.savefig('../plots/Observed_0p5_degree_difference_all_DS_'+pdf_method+'_regional.png',dpi=300)\n",
    "plt.savefig('../plots/Observed_0p5_degree_difference_all_DS_'+pdf_method+'_regional.pdf')\n",
    "plt.clf()"
   ]
  },
  {
   "cell_type": "code",
   "execution_count": 12,
   "metadata": {
    "collapsed": false
   },
   "outputs": [
    {
     "ename": "NameError",
     "evalue": "name 'region_polygons' is not defined",
     "output_type": "error",
     "traceback": [
      "\u001b[0;31m---------------------------------------------------------------------------\u001b[0m",
      "\u001b[0;31mNameError\u001b[0m                                 Traceback (most recent call last)",
      "\u001b[0;32m<ipython-input-12-0fa5519d5c1b>\u001b[0m in \u001b[0;36m<module>\u001b[0;34m()\u001b[0m\n\u001b[1;32m      5\u001b[0m \u001b[0mpplot\u001b[0m\u001b[0;34m=\u001b[0m\u001b[0mpl\u001b[0m\u001b[0;34m.\u001b[0m\u001b[0mflatten\u001b[0m\u001b[0;34m(\u001b[0m\u001b[0;34m)\u001b[0m\u001b[0;34m\u001b[0m\u001b[0m\n\u001b[1;32m      6\u001b[0m \u001b[0mk\u001b[0m\u001b[0;34m=\u001b[0m\u001b[0;36m0\u001b[0m\u001b[0;34m\u001b[0m\u001b[0m\n\u001b[0;32m----> 7\u001b[0;31m \u001b[0;32mfor\u001b[0m \u001b[0mregion\u001b[0m \u001b[0;32min\u001b[0m \u001b[0mregion_polygons\u001b[0m\u001b[0;34m.\u001b[0m\u001b[0mkeys\u001b[0m\u001b[0;34m(\u001b[0m\u001b[0;34m)\u001b[0m\u001b[0;34m:\u001b[0m\u001b[0;34m\u001b[0m\u001b[0m\n\u001b[0m\u001b[1;32m      8\u001b[0m     \u001b[0;32mfor\u001b[0m \u001b[0mdataset\u001b[0m \u001b[0;32min\u001b[0m \u001b[0;34m[\u001b[0m\u001b[0;34m'HadEX2'\u001b[0m\u001b[0;34m,\u001b[0m\u001b[0;34m'GHCNDEX'\u001b[0m\u001b[0;34m]\u001b[0m\u001b[0;34m:\u001b[0m\u001b[0;34m\u001b[0m\u001b[0m\n\u001b[1;32m      9\u001b[0m         \u001b[0mmask\u001b[0m\u001b[0;34m=\u001b[0m\u001b[0mvaroutdict\u001b[0m\u001b[0;34m[\u001b[0m\u001b[0mdataset\u001b[0m\u001b[0;34m]\u001b[0m\u001b[0;34m[\u001b[0m\u001b[0;34m'TXx'\u001b[0m\u001b[0;34m]\u001b[0m\u001b[0;34m.\u001b[0m\u001b[0m_masks\u001b[0m\u001b[0;34m[\u001b[0m\u001b[0mregion\u001b[0m\u001b[0;34m]\u001b[0m\u001b[0;34m.\u001b[0m\u001b[0mcopy\u001b[0m\u001b[0;34m(\u001b[0m\u001b[0;34m)\u001b[0m\u001b[0;34m\u001b[0m\u001b[0m\n",
      "\u001b[0;31mNameError\u001b[0m: name 'region_polygons' is not defined"
     ]
    }
   ],
   "source": [
    "###########\n",
    "# Plot Masks\n",
    "###########\n",
    "fig,pl=plt.subplots(nrows=5,ncols=2,figsize=(8,11.5))\n",
    "pplot=pl.flatten()\n",
    "k=0\n",
    "for region in varoutdict['HadEX2']['TXx']._masks.keys():\n",
    "    if region!='global':\n",
    "        for dataset in ['HadEX2','GHCNDEX']:\n",
    "            mask=varoutdict[dataset]['TXx']._masks[region].copy()\n",
    "            mask[np.isfinite(mask)]=1\n",
    "            varoutdict[dataset][varin].plot_map(mask,\n",
    "                                                ax=pplot[k],\n",
    "                                                color_bar=False,\n",
    "                                                show=False)\n",
    "            if k<2:pplot[k].set_title(dataset)\n",
    "            if (-1)**k>0:pplot[k].set_ylabel(region.replace('_',' '))\n",
    "            k+=1\n",
    "#plt.suptitle('TXx')\n",
    "\n",
    "plt.tight_layout()\n",
    "plt.savefig('../plots/mask_HadEX2_GHCNDEX_regional.png',dpi=300)\n",
    "plt.clf()"
   ]
  },
  {
   "cell_type": "code",
   "execution_count": null,
   "metadata": {
    "collapsed": true
   },
   "outputs": [],
   "source": []
  }
 ],
 "metadata": {
  "anaconda-cloud": {},
  "kernelspec": {
   "display_name": "Python [conda env:py_masks]",
   "language": "python",
   "name": "conda-env-py_masks-py"
  },
  "language_info": {
   "codemirror_mode": {
    "name": "ipython",
    "version": 2
   },
   "file_extension": ".py",
   "mimetype": "text/x-python",
   "name": "python",
   "nbconvert_exporter": "python",
   "pygments_lexer": "ipython2",
   "version": "2.7.12"
  }
 },
 "nbformat": 4,
 "nbformat_minor": 1
}
